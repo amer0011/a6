{
 "cells": [
  {
   "cell_type": "code",
   "execution_count": 1,
   "id": "d67558c6",
   "metadata": {},
   "outputs": [],
   "source": [
    "import math\n",
    "def a(x):\n",
    "    return math.sin(x)"
   ]
  },
  {
   "cell_type": "code",
   "execution_count": 2,
   "id": "7047ea44",
   "metadata": {},
   "outputs": [
    {
     "data": {
      "text/plain": [
       "-0.9589242746631385"
      ]
     },
     "execution_count": 2,
     "metadata": {},
     "output_type": "execute_result"
    }
   ],
   "source": [
    "a(5)"
   ]
  },
  {
   "cell_type": "code",
   "execution_count": 10,
   "id": "79c4554b",
   "metadata": {},
   "outputs": [],
   "source": [
    "\n",
    "def a1(v,b):\n",
    "    return math.sin(v) + math.cos(b)"
   ]
  },
  {
   "cell_type": "code",
   "execution_count": 11,
   "id": "f497bd51",
   "metadata": {},
   "outputs": [
    {
     "data": {
      "text/plain": [
       "-0.6752620891999122"
      ]
     },
     "execution_count": 11,
     "metadata": {},
     "output_type": "execute_result"
    }
   ],
   "source": [
    "a1(5,5)"
   ]
  },
  {
   "cell_type": "code",
   "execution_count": 12,
   "id": "ccab162b",
   "metadata": {},
   "outputs": [],
   "source": [
    "def a2(n,m,s):\n",
    "    return math.sqrt((n-m)/s)"
   ]
  },
  {
   "cell_type": "code",
   "execution_count": 16,
   "id": "b8da246f",
   "metadata": {},
   "outputs": [
    {
     "data": {
      "text/plain": [
       "3.1621986022386386"
      ]
     },
     "execution_count": 16,
     "metadata": {},
     "output_type": "execute_result"
    }
   ],
   "source": [
    "a2(100000,5,10000)"
   ]
  },
  {
   "cell_type": "code",
   "execution_count": 9,
   "id": "c75ce9ff",
   "metadata": {},
   "outputs": [],
   "source": [
    "def z1(z,x,c,v):\n",
    "    return (z-x*(2*(c-v)))"
   ]
  },
  {
   "cell_type": "code",
   "execution_count": 10,
   "id": "c15ddde8",
   "metadata": {},
   "outputs": [
    {
     "data": {
      "text/plain": [
       "-62"
      ]
     },
     "execution_count": 10,
     "metadata": {},
     "output_type": "execute_result"
    }
   ],
   "source": [
    "z1 (2,8,6,2)"
   ]
  },
  {
   "cell_type": "code",
   "execution_count": null,
   "id": "db99224a",
   "metadata": {},
   "outputs": [],
   "source": []
  }
 ],
 "metadata": {
  "kernelspec": {
   "display_name": "Python 3 (ipykernel)",
   "language": "python",
   "name": "python3"
  },
  "language_info": {
   "codemirror_mode": {
    "name": "ipython",
    "version": 3
   },
   "file_extension": ".py",
   "mimetype": "text/x-python",
   "name": "python",
   "nbconvert_exporter": "python",
   "pygments_lexer": "ipython3",
   "version": "3.7.6"
  }
 },
 "nbformat": 4,
 "nbformat_minor": 5
}
