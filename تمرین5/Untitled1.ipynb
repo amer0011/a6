{
 "cells": [
  {
   "cell_type": "code",
   "execution_count": 10,
   "id": "22d91aee",
   "metadata": {},
   "outputs": [
    {
     "name": "stdout",
     "output_type": "stream",
     "text": [
      "س\n",
      "پایان\n",
      "ی\n",
      "پایان\n",
      "د\n",
      "پایان\n",
      "ا\n",
      "پایان\n",
      "م\n",
      "پایان\n",
      "ی\n",
      "پایان\n",
      "ر\n",
      "پایان\n",
      "ر\n",
      "پایان\n",
      "ض\n",
      "پایان\n",
      "ا\n",
      "پایان\n",
      "م\n",
      "پایان\n",
      "و\n",
      "پایان\n",
      "س\n",
      "پایان\n",
      "و\n",
      "پایان\n",
      "ی\n",
      "پایان\n",
      " \n",
      "پایان\n",
      "ن\n",
      "پایان\n",
      "ژ\n",
      "پایان\n",
      "ا\n",
      "پایان\n",
      "د\n",
      "پایان\n"
     ]
    }
   ],
   "source": [
    "a=\"سیدامیررضاموسوی نژاد\"\n",
    "z=len(a)\n",
    "x=0\n",
    "while (x!=z):\n",
    "    print(a[x])\n",
    "    x=x+1\n",
    "    print(\"پایان\")"
   ]
  },
  {
   "cell_type": "code",
   "execution_count": null,
   "id": "9ba09e42",
   "metadata": {},
   "outputs": [],
   "source": []
  },
  {
   "cell_type": "code",
   "execution_count": null,
   "id": "9f81119c",
   "metadata": {},
   "outputs": [],
   "source": []
  }
 ],
 "metadata": {
  "kernelspec": {
   "display_name": "Python 3 (ipykernel)",
   "language": "python",
   "name": "python3"
  },
  "language_info": {
   "codemirror_mode": {
    "name": "ipython",
    "version": 3
   },
   "file_extension": ".py",
   "mimetype": "text/x-python",
   "name": "python",
   "nbconvert_exporter": "python",
   "pygments_lexer": "ipython3",
   "version": "3.7.6"
  }
 },
 "nbformat": 4,
 "nbformat_minor": 5
}
